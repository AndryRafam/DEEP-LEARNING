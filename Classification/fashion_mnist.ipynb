{
 "cells": [
  {
   "cell_type": "markdown",
   "metadata": {},
   "source": [
    "# Fashion MNIST (CNN: Convolutional Neural Network)"
   ]
  },
  {
   "cell_type": "code",
   "execution_count": 3,
   "metadata": {},
   "outputs": [],
   "source": [
    "from __future__ import print_function\n",
    "from __future__ import division\n",
    "from __future__ import absolute_import\n",
    "\n",
    "import numpy as np\n",
    "import tensorflow\n",
    "import matplotlib.pyplot as plt\n",
    "from tensorflow.keras.models import Model\n",
    "from tensorflow.keras.layers import Conv2D, Flatten, MaxPooling2D\n",
    "from tensorflow.keras.layers import Dropout, Dense, Input, BatchNormalization\n",
    "from tensorflow.keras.datasets import fashion_mnist\n",
    "from random import seed"
   ]
  },
  {
   "cell_type": "markdown",
   "metadata": {},
   "source": [
    "### core program"
   ]
  },
  {
   "cell_type": "code",
   "execution_count": 4,
   "metadata": {},
   "outputs": [
    {
     "ename": "TabError",
     "evalue": "inconsistent use of tabs and spaces in indentation (<ipython-input-4-518bdc4de5c0>, line 11)",
     "output_type": "error",
     "traceback": [
      "\u001b[0;36m  File \u001b[0;32m\"<ipython-input-4-518bdc4de5c0>\"\u001b[0;36m, line \u001b[0;32m11\u001b[0m\n\u001b[0;31m    self.indexes = np.random.randint(0,self.x_train.shape[0], size=25)\u001b[0m\n\u001b[0m                                                                      ^\u001b[0m\n\u001b[0;31mTabError\u001b[0m\u001b[0;31m:\u001b[0m inconsistent use of tabs and spaces in indentation\n"
     ]
    }
   ],
   "source": [
    "class CNN():\n",
    "\tdef __init__(self):\n",
    "\t\t# loading the data\n",
    "\t\t(x_train,y_train), (x_test,y_test) = fashion_mnist.load_data()\n",
    "\t\tself.x_train = x_train\n",
    "\t\tself.y_train = y_train\n",
    "\t\tself.x_test = x_test\n",
    "\t\tself.y_test = y_test\n",
    "        \n",
    "        #\n",
    "        \n",
    "        # reshape and normalize\n",
    "\t\tself.num_labels = len(np.unique(self.y_train))\n",
    "\t\tself.image_size = self.x_train.shape[1]\n",
    "\t\tself.x_train = np.reshape(self.x_train,[-1,self.image_size,self.image_size,1])\n",
    "\t\tself.x_test = np.reshape(self.x_test,[-1,self.image_size,self.image_size,1])\n",
    "\t\tself.x_train = self.x_train.astype('float32')/255\n",
    "\t\tself.x_test = self.x_test.astype('float32')/255\n",
    "\t\t\n",
    "\t\t# build model\n",
    "\t\tself.input_shape = (self.image_size,self.image_size,1)\n",
    "\t\tself.batch_size = 32\n",
    "\t\tself.dropout = 0.25\n",
    "\t\tself.filters = 32\n",
    "\t\tself.epochs = 20\n",
    "\t\tself.kernel_size = 5\n",
    "\t\t\n",
    "\tdef build_model(self,filters,kernel_size,dropout):\n",
    "\t\tself.filters = filters\n",
    "\t\tself.kernel_size = kernel_size\n",
    "\t\tself.dropout = dropout\n",
    "\t\tself.inputs = Input(shape=self.input_shape)\n",
    "\t\tfor i in range(3):\n",
    "\t\t\tself.cnn = Conv2D(self.filters,self.kernel_size,padding='same', activation='relu')(self.inputs)\n",
    "\t\t\tself.cnn = BatchNormalization()(self.cnn)\n",
    "\t\t\tself.cnn = Dropout(self.dropout)(self.cnn)\n",
    "\t\t\tself.cnn = MaxPooling2D()(self.cnn)\n",
    "\t\t\tself.filters *= 2\n",
    "\t\tself.cnn = Flatten()(self.cnn)\n",
    "\t\tself.cnn = Dropout(dropout)(self.cnn)\n",
    "\t\tself.outputs = Dense(self.num_labels, activation='softmax')(self.cnn)\n",
    "\t\treturn Model(self.inputs,self.outputs)\n",
    "\n",
    "\n",
    "\tdef train_model(self):\n",
    "\t\tself.model = self.build_model(self.filters,self.kernel_size,self.dropout)\n",
    "\t\tself.model.compile(optimizer='adamax', loss='sparse_categorical_crossentropy', metrics=['accuracy'])\n",
    "\t\tself.model.fit(self.x_train,self.y_train, epochs=self.epochs, batch_size=self.batch_size)\n",
    "\t\t\t\n",
    "\t\tself.score = self.model.evaluate(self.x_test, self.y_test, batch_size=self.batch_size)\n",
    "\t\tprint(\"\\nACCURACY: %.1f%%\" % (100*self.score[1]))\n",
    "\n",
    "if __name__ == '__main__':\n",
    "\tcnn = CNN()\n",
    "\tcnn.train_model()"
   ]
  },
  {
   "cell_type": "code",
   "execution_count": null,
   "metadata": {},
   "outputs": [],
   "source": []
  }
 ],
 "metadata": {
  "kernelspec": {
   "display_name": "Python 3",
   "language": "python",
   "name": "python3"
  },
  "language_info": {
   "codemirror_mode": {
    "name": "ipython",
    "version": 3
   },
   "file_extension": ".py",
   "mimetype": "text/x-python",
   "name": "python",
   "nbconvert_exporter": "python",
   "pygments_lexer": "ipython3",
   "version": "3.5.2"
  }
 },
 "nbformat": 4,
 "nbformat_minor": 2
}
