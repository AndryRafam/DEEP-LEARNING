{
 "cells": [
  {
   "cell_type": "markdown",
   "metadata": {},
   "source": [
    "# Classifying movie reviews: Binary Classification, using mse as loss function and tanh as activation function"
   ]
  },
  {
   "cell_type": "code",
   "execution_count": 1,
   "metadata": {},
   "outputs": [
    {
     "name": "stderr",
     "output_type": "stream",
     "text": [
      "Using TensorFlow backend.\n"
     ]
    }
   ],
   "source": [
    "from keras.datasets import imdb\n",
    "from keras.models import Model\n",
    "from keras.layers import Dense, Input\n",
    "from keras import optimizers\n",
    "import matplotlib.pyplot as plt\n",
    "import numpy as np\n",
    "\n",
    "(train_data,train_labels), (test_data,test_labels) = imdb.load_data(num_words=10000)"
   ]
  },
  {
   "cell_type": "markdown",
   "metadata": {},
   "source": [
    "### Encoding the integer sequences into a binary matrix"
   ]
  },
  {
   "cell_type": "code",
   "execution_count": 2,
   "metadata": {},
   "outputs": [],
   "source": [
    "def vectorize_sequences(sequences,dimension=10000):\n",
    "    results = np.zeros((len(sequences),dimension))\n",
    "    for i, sequence in enumerate(sequences):\n",
    "        results[i,sequence]=1\n",
    "    return results\n",
    "\n",
    "x_train = vectorize_sequences(train_data)\n",
    "x_test = vectorize_sequences(test_data)\n",
    "y_train = np.asarray(train_labels).astype('float32')\n",
    "y_test = np.asarray(test_labels).astype('float32')"
   ]
  },
  {
   "cell_type": "markdown",
   "metadata": {},
   "source": [
    "### Model definition"
   ]
  },
  {
   "cell_type": "code",
   "execution_count": 3,
   "metadata": {},
   "outputs": [
    {
     "name": "stdout",
     "output_type": "stream",
     "text": [
      "Model: \"model_1\"\n",
      "_________________________________________________________________\n",
      "Layer (type)                 Output Shape              Param #   \n",
      "=================================================================\n",
      "input_1 (InputLayer)         (None, 10000)             0         \n",
      "_________________________________________________________________\n",
      "dense_1 (Dense)              (None, 16)                160016    \n",
      "_________________________________________________________________\n",
      "dense_2 (Dense)              (None, 16)                272       \n",
      "_________________________________________________________________\n",
      "dense_3 (Dense)              (None, 1)                 17        \n",
      "=================================================================\n",
      "Total params: 160,305\n",
      "Trainable params: 160,305\n",
      "Non-trainable params: 0\n",
      "_________________________________________________________________\n"
     ]
    }
   ],
   "source": [
    "epochs = 9\n",
    "batch_size = 512\n",
    "hidden_units = 16\n",
    "input_shape = (10000,)\n",
    "\n",
    "inputs = Input(shape=input_shape)\n",
    "y = Dense(hidden_units,activation='tanh')(inputs)\n",
    "y = Dense(hidden_units,activation='tanh')(y)\n",
    "\n",
    "outputs = Dense(1,activation='sigmoid')(y)\n",
    "\n",
    "model = Model(inputs,outputs)\n",
    "\n",
    "model.summary()"
   ]
  },
  {
   "cell_type": "markdown",
   "metadata": {},
   "source": [
    "### Setting aside a validation set"
   ]
  },
  {
   "cell_type": "code",
   "execution_count": 4,
   "metadata": {},
   "outputs": [],
   "source": [
    "x_val = x_train[:10000]\n",
    "partial_x_train = x_train[10000:]\n",
    "y_val = y_train[:10000]\n",
    "partial_y_train = y_train[10000:]"
   ]
  },
  {
   "cell_type": "markdown",
   "metadata": {},
   "source": [
    "### Compiling and training the model"
   ]
  },
  {
   "cell_type": "code",
   "execution_count": 5,
   "metadata": {},
   "outputs": [
    {
     "name": "stdout",
     "output_type": "stream",
     "text": [
      "Train on 15000 samples, validate on 10000 samples\n",
      "Epoch 1/9\n",
      "15000/15000 [==============================] - 1s 78us/step - loss: 0.1604 - acc: 0.7991 - val_loss: 0.1098 - val_acc: 0.8778\n",
      "Epoch 2/9\n",
      "15000/15000 [==============================] - 1s 62us/step - loss: 0.0813 - acc: 0.9121 - val_loss: 0.0873 - val_acc: 0.8883\n",
      "Epoch 3/9\n",
      "15000/15000 [==============================] - 1s 64us/step - loss: 0.0556 - acc: 0.9373 - val_loss: 0.0830 - val_acc: 0.8877\n",
      "Epoch 4/9\n",
      "15000/15000 [==============================] - 1s 64us/step - loss: 0.0401 - acc: 0.9551 - val_loss: 0.0848 - val_acc: 0.8847\n",
      "Epoch 5/9\n",
      "15000/15000 [==============================] - 1s 64us/step - loss: 0.0321 - acc: 0.9629 - val_loss: 0.0884 - val_acc: 0.8797\n",
      "Epoch 6/9\n",
      "15000/15000 [==============================] - 1s 62us/step - loss: 0.0245 - acc: 0.9728 - val_loss: 0.0930 - val_acc: 0.8778\n",
      "Epoch 7/9\n",
      "15000/15000 [==============================] - 1s 65us/step - loss: 0.0193 - acc: 0.9794 - val_loss: 0.1048 - val_acc: 0.8682\n",
      "Epoch 8/9\n",
      "15000/15000 [==============================] - 1s 68us/step - loss: 0.0152 - acc: 0.9839 - val_loss: 0.1165 - val_acc: 0.8592\n",
      "Epoch 9/9\n",
      "15000/15000 [==============================] - 1s 65us/step - loss: 0.0144 - acc: 0.9848 - val_loss: 0.1030 - val_acc: 0.8737\n"
     ]
    }
   ],
   "source": [
    "model.compile(optimizer=optimizers.RMSprop(lr=0.001),\n",
    "              loss='mse',metrics=['acc'])\n",
    "\n",
    "history = model.fit(partial_x_train,partial_y_train,epochs=epochs,\n",
    "                    batch_size=512,\n",
    "                    validation_data=(x_val,y_val))\n",
    "\n",
    "history_dict = history.history\n",
    "loss_values = history_dict['loss']\n",
    "val_loss_values = history_dict['val_loss']\n",
    "acc = history_dict['acc']\n",
    "\n",
    "epochs = range(1,len(acc)+1)"
   ]
  },
  {
   "cell_type": "markdown",
   "metadata": {},
   "source": [
    "### Plotting the training and validation loss"
   ]
  },
  {
   "cell_type": "code",
   "execution_count": 6,
   "metadata": {},
   "outputs": [
    {
     "data": {
      "image/png": "[encoded data removed]",
      "text/plain": [
       "<Figure size 432x288 with 1 Axes>"
      ]
     },
     "metadata": {
      "needs_background": "light"
     },
     "output_type": "display_data"
    }
   ],
   "source": [
    "plt.plot(epochs,loss_values,'b',label='Training loss')\n",
    "plt.plot(epochs,val_loss_values,'r',label='Validation loss')\n",
    "plt.title('Training and validation loss')\n",
    "plt.xlabel('Epochs')\n",
    "plt.ylabel('Loss')\n",
    "plt.legend()\n",
    "\n",
    "plt.show()"
   ]
  },
  {
   "cell_type": "markdown",
   "metadata": {},
   "source": [
    "### Plotting the training and validation accuracy"
   ]
  },
  {
   "cell_type": "code",
   "execution_count": 7,
   "metadata": {},
   "outputs": [
    {
     "data": {
      "image/png": "[encoded data removed]",
      "text/plain": [
       "<Figure size 432x288 with 1 Axes>"
      ]
     },
     "metadata": {
      "needs_background": "light"
     },
     "output_type": "display_data"
    },
    {
     "name": "stdout",
     "output_type": "stream",
     "text": [
      "25000/25000 [==============================] - 1s 59us/step\n",
      "\n",
      "Score :86.3%\n"
     ]
    }
   ],
   "source": [
    "plt.clf()\n",
    "acc = history_dict['acc']\n",
    "val_acc = history_dict['val_acc']\n",
    "\n",
    "plt.plot(epochs,acc,'b',label='Training acc')\n",
    "plt.plot(epochs,val_acc,'r',label='Validation acc')\n",
    "plt.title('Training and validation accuracy')\n",
    "plt.xlabel('Epochs')\n",
    "plt.ylabel('Loss')\n",
    "plt.legend()\n",
    "\n",
    "plt.show()\n",
    "\n",
    "score = model.evaluate(x_test,y_test)\n",
    "print(\"\\nScore :%.1f%%\" % (100.0*score[1]))"
   ]
  },
  {
   "cell_type": "code",
   "execution_count": null,
   "metadata": {},
   "outputs": [],
   "source": []
  }
 ],
 "metadata": {
  "kernelspec": {
   "display_name": "Python 3",
   "language": "python",
   "name": "python3"
  },
  "language_info": {
   "codemirror_mode": {
    "name": "ipython",
    "version": 3
   },
   "file_extension": ".py",
   "mimetype": "text/x-python",
   "name": "python",
   "nbconvert_exporter": "python",
   "pygments_lexer": "ipython3",
   "version": "3.5.2"
  }
 },
 "nbformat": 4,
 "nbformat_minor": 2
}
