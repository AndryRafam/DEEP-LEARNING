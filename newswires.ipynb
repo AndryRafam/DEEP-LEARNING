{
 "cells": [
  {
   "cell_type": "markdown",
   "metadata": {},
   "source": [
    "# Reuters newswire classfication - 79.8 % accuracy over 5 epochs"
   ]
  },
  {
   "cell_type": "code",
   "execution_count": 1,
   "metadata": {},
   "outputs": [
    {
     "name": "stderr",
     "output_type": "stream",
     "text": [
      "Using TensorFlow backend.\n"
     ]
    }
   ],
   "source": [
    "from __future__ import print_function\n",
    "from __future__ import absolute_import\n",
    "\n",
    "from keras.datasets import reuters\n",
    "from keras.models import Model\n",
    "from keras.layers import Dense, Input, Activation\n",
    "from keras.optimizers import RMSprop\n",
    "from keras.layers.merge import concatenate\n",
    "\n",
    "import matplotlib.pyplot as plt\n",
    "import numpy as np"
   ]
  },
  {
   "cell_type": "markdown",
   "metadata": {},
   "source": [
    "### downloading the data"
   ]
  },
  {
   "cell_type": "code",
   "execution_count": 2,
   "metadata": {},
   "outputs": [],
   "source": [
    "(train_data,train_labels), (test_data,test_labels) = reuters.load_data(num_words=10000)"
   ]
  },
  {
   "cell_type": "markdown",
   "metadata": {},
   "source": [
    "### encoding the data"
   ]
  },
  {
   "cell_type": "code",
   "execution_count": 4,
   "metadata": {},
   "outputs": [],
   "source": [
    "def vectorize_sequences(sequences,dimension=10000):\n",
    "    results = np.zeros((len(sequences),dimension))\n",
    "    for i, sequence in enumerate(sequences):\n",
    "        results[i,sequence]=1\n",
    "    return results\n",
    "\n",
    "x_train = vectorize_sequences(train_data)\n",
    "x_test = vectorize_sequences(test_data)\n",
    "\n",
    "y_train = np.array(train_labels)\n",
    "y_test = np.array(test_labels)"
   ]
  },
  {
   "cell_type": "markdown",
   "metadata": {},
   "source": [
    "### network parameters"
   ]
  },
  {
   "cell_type": "code",
   "execution_count": 5,
   "metadata": {},
   "outputs": [],
   "source": [
    "hidden_units = 512\n",
    "epochs = 5\n",
    "batch_size = 32\n",
    "input_shape = (10000,)\n",
    "num_labels = len(np.unique(y_train))"
   ]
  },
  {
   "cell_type": "markdown",
   "metadata": {},
   "source": [
    "### build the model"
   ]
  },
  {
   "cell_type": "code",
   "execution_count": 6,
   "metadata": {},
   "outputs": [],
   "source": [
    "def build_model():\n",
    "\tleft_inputs = Input(shape=input_shape)\n",
    "\tx = left_inputs\n",
    "\tfor i in range(2):\n",
    "\t\tx = Dense(hidden_units)(x)\n",
    "\t\tx = Activation('relu')(x)\n",
    "\t\n",
    "\tright_inputs = Input(shape=input_shape)\n",
    "\ty = right_inputs\n",
    "\tfor i in range(2):\n",
    "\t\ty = Dense(hidden_units)(y)\n",
    "\t\ty = Activation('relu')(y)\n",
    "\t\n",
    "\tz = concatenate([x,y])\n",
    "\toutputs = Dense(num_labels)(z)\n",
    "\toutputs = Activation('softmax')(outputs)\n",
    "\treturn Model([left_inputs,right_inputs],outputs)"
   ]
  },
  {
   "cell_type": "markdown",
   "metadata": {},
   "source": [
    "### compiling and training the model"
   ]
  },
  {
   "cell_type": "code",
   "execution_count": 9,
   "metadata": {},
   "outputs": [
    {
     "name": "stdout",
     "output_type": "stream",
     "text": [
      "Train on 7982 samples, validate on 1000 samples\n",
      "Epoch 1/5\n",
      "7982/7982 [==============================] - 22s 3ms/step - loss: 1.7997 - accuracy: 0.6199 - val_loss: 1.2485 - val_accuracy: 0.7150\n",
      "Epoch 2/5\n",
      "7982/7982 [==============================] - 22s 3ms/step - loss: 1.0199 - accuracy: 0.7803 - val_loss: 1.0048 - val_accuracy: 0.7910\n",
      "Epoch 3/5\n",
      "7982/7982 [==============================] - 22s 3ms/step - loss: 0.7246 - accuracy: 0.8455 - val_loss: 0.8865 - val_accuracy: 0.8180\n",
      "Epoch 4/5\n",
      "7982/7982 [==============================] - 22s 3ms/step - loss: 0.5272 - accuracy: 0.8882 - val_loss: 0.8485 - val_accuracy: 0.8240\n",
      "Epoch 5/5\n",
      "7982/7982 [==============================] - 22s 3ms/step - loss: 0.3955 - accuracy: 0.9143 - val_loss: 0.8038 - val_accuracy: 0.8330\n"
     ]
    }
   ],
   "source": [
    "model = build_model()\n",
    "optimizer = RMSprop(lr=0.0001)\n",
    "model.compile(optimizer=optimizer, loss='sparse_categorical_crossentropy',\n",
    "\t      metrics=['accuracy'])\n",
    "\n",
    "\n",
    "x_val = x_train[:1000]\n",
    "partial_x_train = x_train[1000:]\n",
    "\n",
    "y_val = y_train[:1000]\n",
    "partial_y_train = y_train[1000:]\n",
    "\n",
    "\n",
    "history = model.fit([partial_x_train,partial_x_train],\n",
    "                    partial_y_train,\n",
    "                    batch_size=batch_size,\n",
    "                    validation_data=([x_val,x_val],y_val),\n",
    "                    epochs=epochs)"
   ]
  },
  {
   "cell_type": "markdown",
   "metadata": {},
   "source": [
    "### evaluate the model"
   ]
  },
  {
   "cell_type": "code",
   "execution_count": 10,
   "metadata": {},
   "outputs": [
    {
     "name": "stdout",
     "output_type": "stream",
     "text": [
      "2246/2246 [==============================] - 1s 271us/step\n",
      "\n",
      "Score: 79.8%\n"
     ]
    }
   ],
   "source": [
    "score = model.evaluate([x_test,x_test],y_test)\n",
    "print(\"\\nScore: %.1f%%\" % (100.0*score[1]))"
   ]
  },
  {
   "cell_type": "markdown",
   "metadata": {},
   "source": [
    "### plotting the training and validation loss"
   ]
  },
  {
   "cell_type": "code",
   "execution_count": 13,
   "metadata": {},
   "outputs": [
    {
     "data": {
      "image/png": "[encoded data removed]",
      "text/plain": [
       "<Figure size 432x288 with 1 Axes>"
      ]
     },
     "metadata": {
      "needs_background": "light"
     },
     "output_type": "display_data"
    }
   ],
   "source": [
    "loss = history.history['loss']\n",
    "val_loss = history.history['val_loss']\n",
    "\n",
    "epochs = range(1,len(loss)+1)\n",
    "\n",
    "plt.plot(epochs,loss,label='Training loss')\n",
    "plt.plot(epochs,val_loss,label='Validation loss')\n",
    "plt.title('Training and validation loss')\n",
    "plt.xlabel('Epochs')\n",
    "plt.ylabel('Loss')\n",
    "plt.legend()\n",
    "\n",
    "plt.show()"
   ]
  },
  {
   "cell_type": "markdown",
   "metadata": {},
   "source": [
    "### plotting the training and validation accuracy"
   ]
  },
  {
   "cell_type": "code",
   "execution_count": 15,
   "metadata": {},
   "outputs": [
    {
     "data": {
      "image/png": "[encoded data removed]",
      "text/plain": [
       "<Figure size 432x288 with 1 Axes>"
      ]
     },
     "metadata": {
      "needs_background": "light"
     },
     "output_type": "display_data"
    }
   ],
   "source": [
    "plt.clf()\n",
    "\n",
    "acc = history.history['accuracy']\n",
    "val_acc = history.history['val_accuracy']\n",
    "\n",
    "plt.plot(epochs,acc,label='Training acc')\n",
    "plt.plot(epochs,val_acc,label='Validation acc')\n",
    "plt.title('Training and validation accuracy')\n",
    "plt.xlabel('Epochs')\n",
    "plt.ylabel('Loss')\n",
    "plt.legend()\n",
    "\n",
    "plt.show()"
   ]
  },
  {
   "cell_type": "code",
   "execution_count": null,
   "metadata": {},
   "outputs": [],
   "source": []
  },
  {
   "cell_type": "code",
   "execution_count": null,
   "metadata": {},
   "outputs": [],
   "source": []
  }
 ],
 "metadata": {
  "kernelspec": {
   "display_name": "Python 3",
   "language": "python",
   "name": "python3"
  },
  "language_info": {
   "codemirror_mode": {
    "name": "ipython",
    "version": 3
   },
   "file_extension": ".py",
   "mimetype": "text/x-python",
   "name": "python",
   "nbconvert_exporter": "python",
   "pygments_lexer": "ipython3",
   "version": "3.5.2"
  }
 },
 "nbformat": 4,
 "nbformat_minor": 2
}
