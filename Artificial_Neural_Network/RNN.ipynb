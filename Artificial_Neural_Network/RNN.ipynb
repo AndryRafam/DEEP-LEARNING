{
 "cells": [
  {
   "cell_type": "markdown",
   "metadata": {},
   "source": [
    "# RNN: Recurent Neural Network on handwrting digits recognition"
   ]
  },
  {
   "cell_type": "markdown",
   "metadata": {},
   "source": [
    "### import libraries"
   ]
  },
  {
   "cell_type": "code",
   "execution_count": 1,
   "metadata": {},
   "outputs": [
    {
     "name": "stderr",
     "output_type": "stream",
     "text": [
      "Using TensorFlow backend.\n"
     ]
    }
   ],
   "source": [
    "import numpy as np\n",
    "from keras.layers import Dense, Activation, Input, SimpleRNN\n",
    "from keras.models import Model\n",
    "from keras.datasets import mnist\n",
    "import matplotlib.pyplot as plt"
   ]
  },
  {
   "cell_type": "markdown",
   "metadata": {},
   "source": [
    "### load data"
   ]
  },
  {
   "cell_type": "code",
   "execution_count": 2,
   "metadata": {},
   "outputs": [],
   "source": [
    "(x_train,y_train), (x_test,y_test) = mnist.load_data()"
   ]
  },
  {
   "cell_type": "markdown",
   "metadata": {},
   "source": [
    "### compute the number of labels"
   ]
  },
  {
   "cell_type": "code",
   "execution_count": 3,
   "metadata": {},
   "outputs": [],
   "source": [
    "num_labels = len(np.unique(y_train))"
   ]
  },
  {
   "cell_type": "markdown",
   "metadata": {},
   "source": [
    "### verify the data"
   ]
  },
  {
   "cell_type": "code",
   "execution_count": 4,
   "metadata": {},
   "outputs": [
    {
     "data": {
      "image/png": "[encoded data removed]",
      "text/plain": [
       "<Figure size 360x360 with 25 Axes>"
      ]
     },
     "metadata": {
      "needs_background": "light"
     },
     "output_type": "display_data"
    }
   ],
   "source": [
    "indexes = np.random.randint(0,x_train.shape[0], size=25)\n",
    "images = x_train[indexes]\n",
    "labels = y_train[indexes]\n",
    "\n",
    "plt.figure(figsize=(5,5))\n",
    "for i in range(len(indexes)):\n",
    "    plt.subplot(5,5,i+1)\n",
    "    image = images[i]\n",
    "    plt.imshow(image,cmap='gray')\n",
    "    plt.axis('off')\n",
    "\n",
    "plt.show()\n",
    "plt.close('all')"
   ]
  },
  {
   "cell_type": "markdown",
   "metadata": {},
   "source": [
    "### resize and normalize"
   ]
  },
  {
   "cell_type": "code",
   "execution_count": 5,
   "metadata": {},
   "outputs": [],
   "source": [
    "image_size = x_train.shape[1]\n",
    "x_train = np.reshape(x_train,[-1,image_size,image_size])\n",
    "x_test = np.reshape(x_test,[-1,image_size,image_size])\n",
    "x_train = x_train.astype('float32')/255\n",
    "x_test = x_test.astype('float32')/255"
   ]
  },
  {
   "cell_type": "markdown",
   "metadata": {},
   "source": [
    "### network parameters"
   ]
  },
  {
   "cell_type": "code",
   "execution_count": 6,
   "metadata": {},
   "outputs": [],
   "source": [
    "input_shape = (image_size,image_size)\n",
    "batch_size = 128\n",
    "units = 256\n",
    "dropout = 0.2\n",
    "epochs = 20"
   ]
  },
  {
   "cell_type": "markdown",
   "metadata": {},
   "source": [
    "### ### functional API to build CNN layers"
   ]
  },
  {
   "cell_type": "code",
   "execution_count": 7,
   "metadata": {},
   "outputs": [],
   "source": [
    "inputs = Input(shape=input_shape)\n",
    "y = SimpleRNN(units=units,dropout=dropout)(inputs)"
   ]
  },
  {
   "cell_type": "markdown",
   "metadata": {},
   "source": [
    "### outputs"
   ]
  },
  {
   "cell_type": "code",
   "execution_count": 8,
   "metadata": {},
   "outputs": [],
   "source": [
    "outputs = Dense(num_labels,activation='softmax')(y)"
   ]
  },
  {
   "cell_type": "markdown",
   "metadata": {},
   "source": [
    "### build the model"
   ]
  },
  {
   "cell_type": "code",
   "execution_count": 9,
   "metadata": {},
   "outputs": [
    {
     "name": "stdout",
     "output_type": "stream",
     "text": [
      "Model: \"model_1\"\n",
      "_________________________________________________________________\n",
      "Layer (type)                 Output Shape              Param #   \n",
      "=================================================================\n",
      "input_1 (InputLayer)         (None, 28, 28)            0         \n",
      "_________________________________________________________________\n",
      "simple_rnn_1 (SimpleRNN)     (None, 256)               72960     \n",
      "_________________________________________________________________\n",
      "dense_1 (Dense)              (None, 10)                2570      \n",
      "=================================================================\n",
      "Total params: 75,530\n",
      "Trainable params: 75,530\n",
      "Non-trainable params: 0\n",
      "_________________________________________________________________\n"
     ]
    }
   ],
   "source": [
    "model = Model(inputs=inputs, outputs=outputs)\n",
    "model.summary()"
   ]
  },
  {
   "cell_type": "markdown",
   "metadata": {},
   "source": [
    "### train the model"
   ]
  },
  {
   "cell_type": "code",
   "execution_count": 10,
   "metadata": {},
   "outputs": [
    {
     "name": "stdout",
     "output_type": "stream",
     "text": [
      "Train on 60000 samples, validate on 10000 samples\n",
      "Epoch 1/20\n",
      "60000/60000 [==============================] - 10s 173us/step - loss: 0.7885 - accuracy: 0.7693 - val_loss: 0.3790 - val_accuracy: 0.8941\n",
      "Epoch 2/20\n",
      "60000/60000 [==============================] - 10s 174us/step - loss: 0.3585 - accuracy: 0.8936 - val_loss: 0.2332 - val_accuracy: 0.9337\n",
      "Epoch 3/20\n",
      "60000/60000 [==============================] - 11s 183us/step - loss: 0.2685 - accuracy: 0.9198 - val_loss: 0.1771 - val_accuracy: 0.9487\n",
      "Epoch 4/20\n",
      "60000/60000 [==============================] - 13s 219us/step - loss: 0.2213 - accuracy: 0.9346 - val_loss: 0.1455 - val_accuracy: 0.9562\n",
      "Epoch 5/20\n",
      "60000/60000 [==============================] - 14s 241us/step - loss: 0.1977 - accuracy: 0.9407 - val_loss: 0.1505 - val_accuracy: 0.9561\n",
      "Epoch 6/20\n",
      "60000/60000 [==============================] - 12s 207us/step - loss: 0.1733 - accuracy: 0.9485 - val_loss: 0.1368 - val_accuracy: 0.9605\n",
      "Epoch 7/20\n",
      "60000/60000 [==============================] - 12s 203us/step - loss: 0.1583 - accuracy: 0.9528 - val_loss: 0.1097 - val_accuracy: 0.9679\n",
      "Epoch 8/20\n",
      "60000/60000 [==============================] - 15s 243us/step - loss: 0.1497 - accuracy: 0.9551 - val_loss: 0.1054 - val_accuracy: 0.9687\n",
      "Epoch 9/20\n",
      "60000/60000 [==============================] - 14s 236us/step - loss: 0.1362 - accuracy: 0.9589 - val_loss: 0.0912 - val_accuracy: 0.9719\n",
      "Epoch 10/20\n",
      "60000/60000 [==============================] - 14s 231us/step - loss: 0.1292 - accuracy: 0.9610 - val_loss: 0.0897 - val_accuracy: 0.9733\n",
      "Epoch 11/20\n",
      "60000/60000 [==============================] - 14s 241us/step - loss: 0.1232 - accuracy: 0.9628 - val_loss: 0.0791 - val_accuracy: 0.9758\n",
      "Epoch 12/20\n",
      "60000/60000 [==============================] - 14s 230us/step - loss: 0.1159 - accuracy: 0.9651 - val_loss: 0.0827 - val_accuracy: 0.9749\n",
      "Epoch 13/20\n",
      "60000/60000 [==============================] - 15s 244us/step - loss: 0.1089 - accuracy: 0.9668 - val_loss: 0.0751 - val_accuracy: 0.9769\n",
      "Epoch 14/20\n",
      "60000/60000 [==============================] - 15s 243us/step - loss: 0.1083 - accuracy: 0.9671 - val_loss: 0.0715 - val_accuracy: 0.9780\n",
      "Epoch 15/20\n",
      "60000/60000 [==============================] - 17s 289us/step - loss: 0.1042 - accuracy: 0.9684 - val_loss: 0.0730 - val_accuracy: 0.9772\n",
      "Epoch 16/20\n",
      "60000/60000 [==============================] - 15s 245us/step - loss: 0.0993 - accuracy: 0.9699 - val_loss: 0.0711 - val_accuracy: 0.9778\n",
      "Epoch 17/20\n",
      "60000/60000 [==============================] - 15s 242us/step - loss: 0.0943 - accuracy: 0.9708 - val_loss: 0.0769 - val_accuracy: 0.9767\n",
      "Epoch 18/20\n",
      "60000/60000 [==============================] - 17s 282us/step - loss: 0.0918 - accuracy: 0.9716 - val_loss: 0.0646 - val_accuracy: 0.9804\n",
      "Epoch 19/20\n",
      "60000/60000 [==============================] - 14s 236us/step - loss: 0.0898 - accuracy: 0.9726 - val_loss: 0.0669 - val_accuracy: 0.9798\n",
      "Epoch 20/20\n",
      "60000/60000 [==============================] - 15s 246us/step - loss: 0.0843 - accuracy: 0.9743 - val_loss: 0.0556 - val_accuracy: 0.9826\n",
      "\n",
      "\n",
      "dict_keys(['val_accuracy', 'loss', 'val_loss', 'accuracy'])\n"
     ]
    }
   ],
   "source": [
    "model.compile(optimizer='sgd',loss='sparse_categorical_crossentropy',\n",
    "              metrics=['accuracy'])\n",
    "history = model.fit(x_train,y_train,\n",
    "                    validation_data=(x_test,y_test),\n",
    "                    epochs=20,batch_size=batch_size)\n",
    "print(\"\\n\")\n",
    "print(history.history.keys())"
   ]
  },
  {
   "cell_type": "markdown",
   "metadata": {},
   "source": [
    "### evaluate the model\n"
   ]
  },
  {
   "cell_type": "code",
   "execution_count": 11,
   "metadata": {},
   "outputs": [
    {
     "name": "stdout",
     "output_type": "stream",
     "text": [
      "10000/10000 [==============================] - 1s 60us/step\n",
      "\n",
      "Test accuracy: 98.3%\n",
      "\n",
      "\n"
     ]
    }
   ],
   "source": [
    "score = model.evaluate(x_test,y_test,batch_size=batch_size)\n",
    "print(\"\\nTest accuracy: %.1f%%\" % (100*score[1]))\n",
    "print(\"\\n\")"
   ]
  },
  {
   "cell_type": "markdown",
   "metadata": {},
   "source": [
    "### plotting\n"
   ]
  },
  {
   "cell_type": "code",
   "execution_count": 14,
   "metadata": {},
   "outputs": [
    {
     "data": {
      "image/png": "[encoded data removed]",
      "text/plain": [
       "<Figure size 432x288 with 1 Axes>"
      ]
     },
     "metadata": {
      "needs_background": "light"
     },
     "output_type": "display_data"
    }
   ],
   "source": [
    "plt.plot(history.history['accuracy'],'o',label='accuracy')\n",
    "plt.plot(history.history['loss'],'o',label='loss')\n",
    "plt.xlabel('Epoch')\n",
    "plt.ylabel('Accuracy')\n",
    "plt.ylim([0,1])\n",
    "plt.legend(loc='best')\n",
    "plt.show()"
   ]
  },
  {
   "cell_type": "code",
   "execution_count": null,
   "metadata": {},
   "outputs": [],
   "source": []
  }
 ],
 "metadata": {
  "kernelspec": {
   "display_name": "Python 3",
   "language": "python",
   "name": "python3"
  },
  "language_info": {
   "codemirror_mode": {
    "name": "ipython",
    "version": 3
   },
   "file_extension": ".py",
   "mimetype": "text/x-python",
   "name": "python",
   "nbconvert_exporter": "python",
   "pygments_lexer": "ipython3",
   "version": "3.5.2"
  }
 },
 "nbformat": 4,
 "nbformat_minor": 2
}
