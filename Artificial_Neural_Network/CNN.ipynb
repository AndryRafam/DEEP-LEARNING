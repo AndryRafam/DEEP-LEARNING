{
 "cells": [
  {
   "cell_type": "markdown",
   "metadata": {},
   "source": [
    "# CNN: Convolutional Neural Network on handwriting digits recognition"
   ]
  },
  {
   "cell_type": "markdown",
   "metadata": {},
   "source": [
    "### import libraries"
   ]
  },
  {
   "cell_type": "code",
   "execution_count": 1,
   "metadata": {},
   "outputs": [
    {
     "name": "stderr",
     "output_type": "stream",
     "text": [
      "Using TensorFlow backend.\n"
     ]
    }
   ],
   "source": [
    "import numpy as np\n",
    "from keras.layers import Dense, Dropout, Input\n",
    "from keras.layers import Conv2D, MaxPooling2D, Flatten\n",
    "from keras.models import Model\n",
    "from keras.datasets import mnist\n",
    "from random import randint\n",
    "import matplotlib.pyplot as plt"
   ]
  },
  {
   "cell_type": "markdown",
   "metadata": {},
   "source": [
    "### load mnist dataset"
   ]
  },
  {
   "cell_type": "code",
   "execution_count": 2,
   "metadata": {},
   "outputs": [],
   "source": [
    "(x_train,y_train), (x_test,y_test) = mnist.load_data()"
   ]
  },
  {
   "cell_type": "markdown",
   "metadata": {},
   "source": [
    "### compute the number of labels"
   ]
  },
  {
   "cell_type": "code",
   "execution_count": 4,
   "metadata": {},
   "outputs": [],
   "source": [
    "num_labels = len(np.unique(y_train))"
   ]
  },
  {
   "cell_type": "markdown",
   "metadata": {},
   "source": [
    "### sample and plot 25 mnist digits from train dataset"
   ]
  },
  {
   "cell_type": "code",
   "execution_count": 5,
   "metadata": {},
   "outputs": [
    {
     "data": {
      "image/png": "[encoded data removed]",
      "text/plain": [
       "<Figure size 360x360 with 25 Axes>"
      ]
     },
     "metadata": {
      "needs_background": "light"
     },
     "output_type": "display_data"
    }
   ],
   "source": [
    "indexes = np.random.randint(0,x_train.shape[0], size=25)\n",
    "images = x_train[indexes]\n",
    "labels = y_train[indexes]\n",
    "\n",
    "plt.figure(figsize=(5,5))\n",
    "for i in range(len(indexes)):\n",
    "    plt.subplot(5,5,i+1)\n",
    "    image = images[i]\n",
    "    plt.imshow(image,cmap='gray')\n",
    "    plt.axis('off')\n",
    "\n",
    "plt.show()\n",
    "plt.close('all')"
   ]
  },
  {
   "cell_type": "code",
   "execution_count": null,
   "metadata": {},
   "outputs": [],
   "source": []
  },
  {
   "cell_type": "markdown",
   "metadata": {},
   "source": [
    "### reshape, resize and normalize"
   ]
  },
  {
   "cell_type": "code",
   "execution_count": 6,
   "metadata": {},
   "outputs": [],
   "source": [
    "image_size = x_train.shape[1]\n",
    "x_train = np.reshape(x_train,[-1,image_size,image_size,1])\n",
    "x_test = np.reshape(x_test,[-1,image_size,image_size,1])\n",
    "x_train = x_train.astype('float32')/255\n",
    "x_test = x_test.astype('float32')/255"
   ]
  },
  {
   "cell_type": "markdown",
   "metadata": {},
   "source": [
    "### network parameters"
   ]
  },
  {
   "cell_type": "code",
   "execution_count": 7,
   "metadata": {},
   "outputs": [],
   "source": [
    "input_shape = (image_size, image_size, 1)\n",
    "batch_size = 128\n",
    "kernel_size = 3\n",
    "pool_size = 2\n",
    "filters = 64\n",
    "dropout = 0.3"
   ]
  },
  {
   "cell_type": "markdown",
   "metadata": {},
   "source": [
    "### functional API to build CNN layers"
   ]
  },
  {
   "cell_type": "code",
   "execution_count": 8,
   "metadata": {},
   "outputs": [],
   "source": [
    "inputs = Input(shape=input_shape)\n",
    "y = Conv2D(filters=filters,\n",
    "           kernel_size=kernel_size,\n",
    "           activation='relu')(inputs)\n",
    "y = MaxPooling2D()(y)\n",
    "y = Conv2D(filters=filters,\n",
    "           kernel_size=kernel_size,\n",
    "           activation='relu')(y)\n",
    "y = MaxPooling2D()(y)\n",
    "y = Conv2D(filters=filters,\n",
    "           kernel_size=kernel_size,\n",
    "           activation='relu')(y)"
   ]
  },
  {
   "cell_type": "markdown",
   "metadata": {},
   "source": [
    "### image to vector before connecting to dense layer"
   ]
  },
  {
   "cell_type": "code",
   "execution_count": 9,
   "metadata": {},
   "outputs": [],
   "source": [
    "y = Flatten()(y)"
   ]
  },
  {
   "cell_type": "markdown",
   "metadata": {},
   "source": [
    "### dropout regularization"
   ]
  },
  {
   "cell_type": "code",
   "execution_count": 10,
   "metadata": {},
   "outputs": [],
   "source": [
    "y = Dropout(dropout)(y)\n",
    "outputs = Dense(num_labels,activation='softmax')(y)"
   ]
  },
  {
   "cell_type": "markdown",
   "metadata": {},
   "source": [
    "### build the model by supplying inputs / outputs"
   ]
  },
  {
   "cell_type": "code",
   "execution_count": 11,
   "metadata": {},
   "outputs": [
    {
     "name": "stdout",
     "output_type": "stream",
     "text": [
      "Model: \"model_1\"\n",
      "_________________________________________________________________\n",
      "Layer (type)                 Output Shape              Param #   \n",
      "=================================================================\n",
      "input_1 (InputLayer)         (None, 28, 28, 1)         0         \n",
      "_________________________________________________________________\n",
      "conv2d_1 (Conv2D)            (None, 26, 26, 64)        640       \n",
      "_________________________________________________________________\n",
      "max_pooling2d_1 (MaxPooling2 (None, 13, 13, 64)        0         \n",
      "_________________________________________________________________\n",
      "conv2d_2 (Conv2D)            (None, 11, 11, 64)        36928     \n",
      "_________________________________________________________________\n",
      "max_pooling2d_2 (MaxPooling2 (None, 5, 5, 64)          0         \n",
      "_________________________________________________________________\n",
      "conv2d_3 (Conv2D)            (None, 3, 3, 64)          36928     \n",
      "_________________________________________________________________\n",
      "flatten_1 (Flatten)          (None, 576)               0         \n",
      "_________________________________________________________________\n",
      "dropout_1 (Dropout)          (None, 576)               0         \n",
      "_________________________________________________________________\n",
      "dense_1 (Dense)              (None, 10)                5770      \n",
      "=================================================================\n",
      "Total params: 80,266\n",
      "Trainable params: 80,266\n",
      "Non-trainable params: 0\n",
      "_________________________________________________________________\n"
     ]
    }
   ],
   "source": [
    "model = Model(inputs=inputs,outputs=outputs)\n",
    "model.summary()"
   ]
  },
  {
   "cell_type": "markdown",
   "metadata": {},
   "source": [
    "### compile and train the model"
   ]
  },
  {
   "cell_type": "code",
   "execution_count": 15,
   "metadata": {},
   "outputs": [
    {
     "name": "stdout",
     "output_type": "stream",
     "text": [
      "Train on 60000 samples, validate on 10000 samples\n",
      "Epoch 1/20\n",
      "60000/60000 [==============================] - 35s 580us/step - loss: 0.0125 - accuracy: 0.9958 - val_loss: 0.0228 - val_accuracy: 0.9934\n",
      "Epoch 2/20\n",
      "60000/60000 [==============================] - 36s 604us/step - loss: 0.0108 - accuracy: 0.9965 - val_loss: 0.0198 - val_accuracy: 0.9943\n",
      "Epoch 3/20\n",
      "60000/60000 [==============================] - 37s 617us/step - loss: 0.0102 - accuracy: 0.9967 - val_loss: 0.0206 - val_accuracy: 0.9941\n",
      "Epoch 4/20\n",
      "60000/60000 [==============================] - 40s 660us/step - loss: 0.0093 - accuracy: 0.9969 - val_loss: 0.0225 - val_accuracy: 0.9933\n",
      "Epoch 5/20\n",
      "60000/60000 [==============================] - 39s 654us/step - loss: 0.0094 - accuracy: 0.9970 - val_loss: 0.0212 - val_accuracy: 0.9937\n",
      "Epoch 6/20\n",
      "60000/60000 [==============================] - 39s 644us/step - loss: 0.0090 - accuracy: 0.9967 - val_loss: 0.0201 - val_accuracy: 0.9945\n",
      "Epoch 7/20\n",
      "60000/60000 [==============================] - 40s 661us/step - loss: 0.0072 - accuracy: 0.9978 - val_loss: 0.0201 - val_accuracy: 0.9939\n",
      "Epoch 8/20\n",
      "60000/60000 [==============================] - 40s 669us/step - loss: 0.0080 - accuracy: 0.9974 - val_loss: 0.0229 - val_accuracy: 0.9937\n",
      "Epoch 9/20\n",
      "60000/60000 [==============================] - 40s 673us/step - loss: 0.0065 - accuracy: 0.9980 - val_loss: 0.0221 - val_accuracy: 0.9939\n",
      "Epoch 10/20\n",
      "60000/60000 [==============================] - 39s 646us/step - loss: 0.0065 - accuracy: 0.9979 - val_loss: 0.0245 - val_accuracy: 0.9933\n",
      "Epoch 11/20\n",
      "60000/60000 [==============================] - 42s 698us/step - loss: 0.0060 - accuracy: 0.9980 - val_loss: 0.0237 - val_accuracy: 0.9938\n",
      "Epoch 12/20\n",
      "60000/60000 [==============================] - 40s 670us/step - loss: 0.0060 - accuracy: 0.9982 - val_loss: 0.0216 - val_accuracy: 0.9942\n",
      "Epoch 13/20\n",
      "60000/60000 [==============================] - 40s 673us/step - loss: 0.0062 - accuracy: 0.9980 - val_loss: 0.0214 - val_accuracy: 0.9939\n",
      "Epoch 14/20\n",
      "60000/60000 [==============================] - 41s 686us/step - loss: 0.0054 - accuracy: 0.9984 - val_loss: 0.0232 - val_accuracy: 0.9937\n",
      "Epoch 15/20\n",
      "60000/60000 [==============================] - 41s 676us/step - loss: 0.0054 - accuracy: 0.9981 - val_loss: 0.0236 - val_accuracy: 0.9928\n",
      "Epoch 16/20\n",
      "60000/60000 [==============================] - 44s 726us/step - loss: 0.0048 - accuracy: 0.9984 - val_loss: 0.0254 - val_accuracy: 0.9940\n",
      "Epoch 17/20\n",
      "60000/60000 [==============================] - 42s 705us/step - loss: 0.0053 - accuracy: 0.9983 - val_loss: 0.0230 - val_accuracy: 0.9942\n",
      "Epoch 18/20\n",
      "60000/60000 [==============================] - 43s 710us/step - loss: 0.0056 - accuracy: 0.9982 - val_loss: 0.0236 - val_accuracy: 0.9942\n",
      "Epoch 19/20\n",
      "60000/60000 [==============================] - 45s 757us/step - loss: 0.0049 - accuracy: 0.9985 - val_loss: 0.0229 - val_accuracy: 0.9943\n",
      "Epoch 20/20\n",
      "60000/60000 [==============================] - 42s 706us/step - loss: 0.0044 - accuracy: 0.9985 - val_loss: 0.0240 - val_accuracy: 0.9942\n"
     ]
    }
   ],
   "source": [
    "model.compile(optimizer='adamax',\n",
    "              loss='sparse_categorical_crossentropy',\n",
    "              metrics=['accuracy'])\n",
    "history = model.fit(x_train,y_train,validation_data=(x_test,y_test),epochs=20,batch_size=batch_size)"
   ]
  },
  {
   "cell_type": "code",
   "execution_count": 16,
   "metadata": {},
   "outputs": [
    {
     "name": "stdout",
     "output_type": "stream",
     "text": [
      "10000/10000 [==============================] - 1s 140us/step\n",
      "\n",
      "\n",
      "CNN_TEST ACCURACY: 99.42%\n"
     ]
    }
   ],
   "source": [
    "score = model.evaluate(x_test, y_test, batch_size=batch_size)\n",
    "print(\"\\n\\nCNN_TEST ACCURACY: %.2f%%\" % (100.0*score[1]))"
   ]
  },
  {
   "cell_type": "markdown",
   "metadata": {},
   "source": [
    "### plotting"
   ]
  },
  {
   "cell_type": "code",
   "execution_count": 19,
   "metadata": {},
   "outputs": [
    {
     "data": {
      "image/png": "[encoded data removed]",
      "text/plain": [
       "<Figure size 432x288 with 1 Axes>"
      ]
     },
     "metadata": {
      "needs_background": "light"
     },
     "output_type": "display_data"
    }
   ],
   "source": [
    "plt.plot(history.history['accuracy'],'ko',label='accuracy')\n",
    "plt.plot(history.history['loss'],'ro',label='loss')\n",
    "plt.xlabel('Epoch')\n",
    "plt.ylabel('Accuracy')\n",
    "plt.ylim([-0.5,1.5])\n",
    "plt.legend(loc='upper right')\n",
    "plt.show()"
   ]
  },
  {
   "cell_type": "markdown",
   "metadata": {},
   "source": [
    "### test the neural network"
   ]
  },
  {
   "cell_type": "code",
   "execution_count": 28,
   "metadata": {},
   "outputs": [
    {
     "data": {
      "image/png": "[encoded data removed]",
      "text/plain": [
       "<Figure size 432x288 with 1 Axes>"
      ]
     },
     "metadata": {
      "needs_background": "light"
     },
     "output_type": "display_data"
    },
    {
     "name": "stdout",
     "output_type": "stream",
     "text": [
      "PREDICTION:  6\n"
     ]
    }
   ],
   "source": [
    "image_index = randint(0,10000)\n",
    "plt.imshow(x_test[image_index].reshape(image_size,image_size),cmap='gray')\n",
    "plt.show()\n",
    "pred = model.predict(x_test[image_index].reshape(-1,image_size,image_size,1))\n",
    "print(\"PREDICTION: \", pred.argmax())"
   ]
  },
  {
   "cell_type": "code",
   "execution_count": null,
   "metadata": {},
   "outputs": [],
   "source": []
  }
 ],
 "metadata": {
  "kernelspec": {
   "display_name": "Python 3",
   "language": "python",
   "name": "python3"
  },
  "language_info": {
   "codemirror_mode": {
    "name": "ipython",
    "version": 3
   },
   "file_extension": ".py",
   "mimetype": "text/x-python",
   "name": "python",
   "nbconvert_exporter": "python",
   "pygments_lexer": "ipython3",
   "version": "3.5.2"
  }
 },
 "nbformat": 4,
 "nbformat_minor": 2
}
