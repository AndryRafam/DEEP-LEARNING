{
 "cells": [
  {
   "cell_type": "markdown",
   "metadata": {},
   "source": [
    "# Siamese Network RNN\n",
    "\n",
    "In this little experiment, we are going to create an \"Y model\" based on MNIST model. The \"Y model\" has two inputs and one outputs. The Y-Network uses the same input twice, both on the left and right RNN branches. The network combines the results using concatenate layer."
   ]
  },
  {
   "cell_type": "markdown",
   "metadata": {},
   "source": [
    "### import libraries"
   ]
  },
  {
   "cell_type": "code",
   "execution_count": 1,
   "metadata": {},
   "outputs": [
    {
     "name": "stderr",
     "output_type": "stream",
     "text": [
      "Using TensorFlow backend.\n"
     ]
    }
   ],
   "source": [
    "import numpy as np\n",
    "from keras.layers import Dense, Input, SimpleRNN\n",
    "from keras.models import Model\n",
    "from keras.datasets import mnist\n",
    "from keras.layers.merge import concatenate\n",
    "import matplotlib.pyplot as plt"
   ]
  },
  {
   "cell_type": "markdown",
   "metadata": {},
   "source": [
    "### load data"
   ]
  },
  {
   "cell_type": "code",
   "execution_count": 2,
   "metadata": {},
   "outputs": [],
   "source": [
    "(x_train,y_train), (x_test,y_test) = mnist.load_data()"
   ]
  },
  {
   "cell_type": "markdown",
   "metadata": {},
   "source": [
    "### compute the number of labels"
   ]
  },
  {
   "cell_type": "code",
   "execution_count": 3,
   "metadata": {},
   "outputs": [],
   "source": [
    "num_labels = len(np.unique(y_train))"
   ]
  },
  {
   "cell_type": "markdown",
   "metadata": {},
   "source": [
    "### reshape and normalize input images"
   ]
  },
  {
   "cell_type": "code",
   "execution_count": 4,
   "metadata": {},
   "outputs": [],
   "source": [
    "image_size = x_train.shape[1]\n",
    "x_train = np.reshape(x_train,[-1,image_size,image_size])\n",
    "x_test = np.reshape(x_test,[-1,image_size,image_size])\n",
    "x_train = x_train.astype('float32')/255\n",
    "x_test = x_test.astype('float32')/255"
   ]
  },
  {
   "cell_type": "markdown",
   "metadata": {},
   "source": [
    "### visualize the data"
   ]
  },
  {
   "cell_type": "code",
   "execution_count": 6,
   "metadata": {},
   "outputs": [
    {
     "data": {
      "image/png": "[encoded data removed]",
      "text/plain": [
       "<Figure size 360x360 with 25 Axes>"
      ]
     },
     "metadata": {
      "needs_background": "light"
     },
     "output_type": "display_data"
    }
   ],
   "source": [
    "indexes = np.random.randint(0,x_train.shape[0], size=25)\n",
    "images = x_train[indexes]\n",
    "labels = y_train[indexes]\n",
    "\n",
    "plt.figure(figsize=(5,5))\n",
    "for i in range(len(indexes)):\n",
    "    plt.subplot(5,5,i+1)\n",
    "    image = images[i]\n",
    "    plt.imshow(image,cmap='gray')\n",
    "    plt.axis('off')\n",
    "\n",
    "plt.show()\n",
    "plt.close('all')"
   ]
  },
  {
   "cell_type": "markdown",
   "metadata": {},
   "source": [
    "### network parameters"
   ]
  },
  {
   "cell_type": "code",
   "execution_count": 7,
   "metadata": {},
   "outputs": [],
   "source": [
    "input_shape = (image_size,image_size)\n",
    "units = 256\n",
    "dropout = 0.4\n",
    "epochs = 20"
   ]
  },
  {
   "cell_type": "markdown",
   "metadata": {},
   "source": [
    "### left branch of the network"
   ]
  },
  {
   "cell_type": "code",
   "execution_count": 8,
   "metadata": {},
   "outputs": [],
   "source": [
    "left_inputs = Input(shape=input_shape)\n",
    "x = SimpleRNN(units=units,dropout=dropout)(left_inputs)"
   ]
  },
  {
   "cell_type": "markdown",
   "metadata": {},
   "source": [
    "### right branch of the network"
   ]
  },
  {
   "cell_type": "code",
   "execution_count": 9,
   "metadata": {},
   "outputs": [],
   "source": [
    "right_inputs = Input(shape=input_shape)\n",
    "y = SimpleRNN(units=units,dropout=dropout)(right_inputs)"
   ]
  },
  {
   "cell_type": "markdown",
   "metadata": {},
   "source": [
    "### merge left and right branches"
   ]
  },
  {
   "cell_type": "code",
   "execution_count": 10,
   "metadata": {},
   "outputs": [],
   "source": [
    "z = concatenate([x,y])"
   ]
  },
  {
   "cell_type": "markdown",
   "metadata": {},
   "source": [
    "### outputs"
   ]
  },
  {
   "cell_type": "code",
   "execution_count": 11,
   "metadata": {},
   "outputs": [],
   "source": [
    "outputs = Dense(num_labels,activation='softmax')(z)"
   ]
  },
  {
   "cell_type": "markdown",
   "metadata": {},
   "source": [
    "### build the model"
   ]
  },
  {
   "cell_type": "code",
   "execution_count": 12,
   "metadata": {},
   "outputs": [
    {
     "name": "stdout",
     "output_type": "stream",
     "text": [
      "Model: \"model_1\"\n",
      "__________________________________________________________________________________________________\n",
      "Layer (type)                    Output Shape         Param #     Connected to                     \n",
      "==================================================================================================\n",
      "input_1 (InputLayer)            (None, 28, 28)       0                                            \n",
      "__________________________________________________________________________________________________\n",
      "input_2 (InputLayer)            (None, 28, 28)       0                                            \n",
      "__________________________________________________________________________________________________\n",
      "simple_rnn_1 (SimpleRNN)        (None, 256)          72960       input_1[0][0]                    \n",
      "__________________________________________________________________________________________________\n",
      "simple_rnn_2 (SimpleRNN)        (None, 256)          72960       input_2[0][0]                    \n",
      "__________________________________________________________________________________________________\n",
      "concatenate_1 (Concatenate)     (None, 512)          0           simple_rnn_1[0][0]               \n",
      "                                                                 simple_rnn_2[0][0]               \n",
      "__________________________________________________________________________________________________\n",
      "dense_1 (Dense)                 (None, 10)           5130        concatenate_1[0][0]              \n",
      "==================================================================================================\n",
      "Total params: 151,050\n",
      "Trainable params: 151,050\n",
      "Non-trainable params: 0\n",
      "__________________________________________________________________________________________________\n"
     ]
    }
   ],
   "source": [
    "model = Model([left_inputs,right_inputs],outputs=outputs)\n",
    "model.summary()"
   ]
  },
  {
   "cell_type": "markdown",
   "metadata": {},
   "source": [
    "### compile and train the model"
   ]
  },
  {
   "cell_type": "code",
   "execution_count": 13,
   "metadata": {
    "scrolled": false
   },
   "outputs": [
    {
     "name": "stdout",
     "output_type": "stream",
     "text": [
      "Train on 60000 samples, validate on 10000 samples\n",
      "Epoch 1/20\n",
      "60000/60000 [==============================] - 37s 615us/step - loss: 0.5557 - accuracy: 0.8296 - val_loss: 0.2196 - val_accuracy: 0.9320\n",
      "Epoch 2/20\n",
      "60000/60000 [==============================] - 46s 760us/step - loss: 0.2801 - accuracy: 0.9138 - val_loss: 0.1449 - val_accuracy: 0.9560\n",
      "Epoch 3/20\n",
      "60000/60000 [==============================] - 49s 824us/step - loss: 0.2180 - accuracy: 0.9323 - val_loss: 0.1253 - val_accuracy: 0.9627\n",
      "Epoch 4/20\n",
      "60000/60000 [==============================] - 47s 790us/step - loss: 0.1826 - accuracy: 0.9434 - val_loss: 0.0948 - val_accuracy: 0.9700\n",
      "Epoch 5/20\n",
      "60000/60000 [==============================] - 52s 869us/step - loss: 0.1616 - accuracy: 0.9492 - val_loss: 0.0902 - val_accuracy: 0.9714\n",
      "Epoch 6/20\n",
      "60000/60000 [==============================] - 55s 924us/step - loss: 0.1484 - accuracy: 0.9535 - val_loss: 0.0839 - val_accuracy: 0.9730\n",
      "Epoch 7/20\n",
      "60000/60000 [==============================] - 55s 923us/step - loss: 0.1369 - accuracy: 0.9567 - val_loss: 0.0799 - val_accuracy: 0.9733\n",
      "Epoch 8/20\n",
      "60000/60000 [==============================] - 53s 876us/step - loss: 0.1292 - accuracy: 0.9599 - val_loss: 0.0719 - val_accuracy: 0.9769\n",
      "Epoch 9/20\n",
      "60000/60000 [==============================] - 54s 901us/step - loss: 0.1191 - accuracy: 0.9627 - val_loss: 0.0681 - val_accuracy: 0.9778\n",
      "Epoch 10/20\n",
      "60000/60000 [==============================] - 58s 975us/step - loss: 0.1148 - accuracy: 0.9639 - val_loss: 0.0589 - val_accuracy: 0.9796\n",
      "Epoch 11/20\n",
      "60000/60000 [==============================] - 57s 949us/step - loss: 0.1065 - accuracy: 0.9659 - val_loss: 0.0535 - val_accuracy: 0.9820\n",
      "Epoch 12/20\n",
      "60000/60000 [==============================] - 61s 1ms/step - loss: 0.1009 - accuracy: 0.9686 - val_loss: 0.0588 - val_accuracy: 0.9817\n",
      "Epoch 13/20\n",
      "60000/60000 [==============================] - 58s 972us/step - loss: 0.0970 - accuracy: 0.9689 - val_loss: 0.0590 - val_accuracy: 0.9797\n",
      "Epoch 14/20\n",
      "60000/60000 [==============================] - 60s 1ms/step - loss: 0.0954 - accuracy: 0.9693 - val_loss: 0.0533 - val_accuracy: 0.9827\n",
      "Epoch 15/20\n",
      "60000/60000 [==============================] - 53s 880us/step - loss: 0.0924 - accuracy: 0.9704 - val_loss: 0.0583 - val_accuracy: 0.9810\n",
      "Epoch 16/20\n",
      "60000/60000 [==============================] - 51s 843us/step - loss: 0.0913 - accuracy: 0.9706 - val_loss: 0.0454 - val_accuracy: 0.9851\n",
      "Epoch 17/20\n",
      "60000/60000 [==============================] - 56s 926us/step - loss: 0.0835 - accuracy: 0.9740 - val_loss: 0.0503 - val_accuracy: 0.9845\n",
      "Epoch 18/20\n",
      "60000/60000 [==============================] - 53s 881us/step - loss: 0.0834 - accuracy: 0.9732 - val_loss: 0.0550 - val_accuracy: 0.9825\n",
      "Epoch 19/20\n",
      "60000/60000 [==============================] - 59s 975us/step - loss: 0.0803 - accuracy: 0.9742 - val_loss: 0.0473 - val_accuracy: 0.9833\n",
      "Epoch 20/20\n",
      "60000/60000 [==============================] - 57s 958us/step - loss: 0.0779 - accuracy: 0.9741 - val_loss: 0.0448 - val_accuracy: 0.9860\n"
     ]
    },
    {
     "data": {
      "text/plain": [
       "<keras.callbacks.callbacks.History at 0x7fb774b2dac8>"
      ]
     },
     "execution_count": 13,
     "metadata": {},
     "output_type": "execute_result"
    }
   ],
   "source": [
    "model.compile(optimizer='sgd',loss='sparse_categorical_crossentropy',\n",
    "              metrics=['accuracy'])\n",
    "model.fit([x_train,x_train],y_train,validation_data=([x_test,x_test],y_test),\n",
    "          epochs=20)"
   ]
  },
  {
   "cell_type": "markdown",
   "metadata": {},
   "source": [
    "### evaluate the model"
   ]
  },
  {
   "cell_type": "code",
   "execution_count": 14,
   "metadata": {},
   "outputs": [
    {
     "name": "stdout",
     "output_type": "stream",
     "text": [
      "10000/10000 [==============================] - 2s 156us/step\n",
      "\n",
      "Test accuracy: 98.6%\n"
     ]
    }
   ],
   "source": [
    "score = model.evaluate([x_test,x_test],y_test)\n",
    "print(\"\\nTest accuracy: %.1f%%\" % (100*score[1]))"
   ]
  },
  {
   "cell_type": "markdown",
   "metadata": {},
   "source": [
    "### Last comments\n",
    "\n",
    "Over the course of the 20 epochs, the accuracy of the Y-Network is 98.6% which little higher than the simple RNN (https://github.com/AndryRafam/DEEP-LEARNING/blob/master/Artificial_Neural_Network/RNN.ipynb). However, this was at the cost of both higher complexity and more than double the number of parameters."
   ]
  },
  {
   "cell_type": "code",
   "execution_count": null,
   "metadata": {},
   "outputs": [],
   "source": []
  }
 ],
 "metadata": {
  "kernelspec": {
   "display_name": "Python 3",
   "language": "python",
   "name": "python3"
  },
  "language_info": {
   "codemirror_mode": {
    "name": "ipython",
    "version": 3
   },
   "file_extension": ".py",
   "mimetype": "text/x-python",
   "name": "python",
   "nbconvert_exporter": "python",
   "pygments_lexer": "ipython3",
   "version": "3.5.2"
  }
 },
 "nbformat": 4,
 "nbformat_minor": 2
}
