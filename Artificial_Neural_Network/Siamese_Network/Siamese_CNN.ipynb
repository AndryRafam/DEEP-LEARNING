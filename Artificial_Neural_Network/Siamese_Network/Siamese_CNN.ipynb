{
 "cells": [
  {
   "cell_type": "markdown",
   "metadata": {},
   "source": [
    "# Siamese Network with CNN\n",
    "\n",
    "In this little experiment, we are going to create an \"Y model\" based on MNIST model. The \"Y model\" has two inputs and one outputs. The Y-Network uses the same input twice, both on the left and right CNN branches. The network combines the results using concatenate layer. The merge operation concatenate is similar to stacking two tensors of the same shape along the concatenation axis to form one tensor."
   ]
  },
  {
   "cell_type": "markdown",
   "metadata": {},
   "source": [
    "### import libraries "
   ]
  },
  {
   "cell_type": "code",
   "execution_count": 16,
   "metadata": {},
   "outputs": [],
   "source": [
    "import numpy as np\n",
    "from keras.layers import Dense, Dropout, Input\n",
    "from keras.layers import Conv2D, MaxPooling2D, Flatten\n",
    "from keras.models import Model\n",
    "from keras.layers.merge import concatenate\n",
    "from keras.datasets import mnist\n",
    "import matplotlib.pyplot as plt"
   ]
  },
  {
   "cell_type": "markdown",
   "metadata": {},
   "source": [
    "### load data"
   ]
  },
  {
   "cell_type": "code",
   "execution_count": 18,
   "metadata": {},
   "outputs": [],
   "source": [
    "(x_train,y_train), (x_test,y_test) = mnist.load_data()"
   ]
  },
  {
   "cell_type": "markdown",
   "metadata": {},
   "source": [
    "### compute the number of labels"
   ]
  },
  {
   "cell_type": "code",
   "execution_count": 19,
   "metadata": {},
   "outputs": [],
   "source": [
    "num_labels = len(np.unique(y_train))"
   ]
  },
  {
   "cell_type": "markdown",
   "metadata": {},
   "source": [
    "### mnist example"
   ]
  },
  {
   "cell_type": "code",
   "execution_count": 20,
   "metadata": {},
   "outputs": [
    {
     "data": {
      "image/png": "[encoded data removed]",
      "text/plain": [
       "<Figure size 360x360 with 25 Axes>"
      ]
     },
     "metadata": {
      "needs_background": "light"
     },
     "output_type": "display_data"
    }
   ],
   "source": [
    "indexes = np.random.randint(0,x_train.shape[0], size=25)\n",
    "images = x_train[indexes]\n",
    "labels = y_train[indexes]\n",
    "\n",
    "plt.figure(figsize=(5,5))\n",
    "for i in range(len(indexes)):\n",
    "    plt.subplot(5,5,i+1)\n",
    "    image = images[i]\n",
    "    plt.imshow(image,cmap='gray')\n",
    "    plt.axis('off')\n",
    "\n",
    "plt.show()\n",
    "plt.close('all')"
   ]
  },
  {
   "cell_type": "markdown",
   "metadata": {},
   "source": [
    "### reshape and normalize the data"
   ]
  },
  {
   "cell_type": "code",
   "execution_count": 23,
   "metadata": {},
   "outputs": [],
   "source": [
    "image_size = x_train.shape[1]\n",
    "x_train = np.reshape(x_train,[-1,image_size,image_size,1])\n",
    "x_test = np.reshape(x_test,[-1,image_size,image_size,1])\n",
    "x_train = x_train.astype('float32')/255\n",
    "x_test = x_test.astype('float32')/255"
   ]
  },
  {
   "cell_type": "markdown",
   "metadata": {},
   "source": [
    "### network parameters"
   ]
  },
  {
   "cell_type": "code",
   "execution_count": 25,
   "metadata": {},
   "outputs": [],
   "source": [
    "input_shape = (image_size,image_size,1)\n",
    "batch_size = 32\n",
    "kernel_size = 3\n",
    "dropout = 0.4\n",
    "n_filters = 32"
   ]
  },
  {
   "cell_type": "markdown",
   "metadata": {},
   "source": [
    "### left branch of Y network"
   ]
  },
  {
   "cell_type": "code",
   "execution_count": 26,
   "metadata": {},
   "outputs": [],
   "source": [
    "left_inputs = Input(shape=input_shape)\n",
    "x = left_inputs\n",
    "filters = n_filters"
   ]
  },
  {
   "cell_type": "markdown",
   "metadata": {},
   "source": [
    "### 3 layers of Conv2D-Dropout-MaxPooling2D number of filters doubles after each layer (32-64-128)"
   ]
  },
  {
   "cell_type": "code",
   "execution_count": 27,
   "metadata": {},
   "outputs": [],
   "source": [
    "for i in range(3):\n",
    "    x = Conv2D(filters=filters,\n",
    "               kernel_size=kernel_size,\n",
    "               padding='same',\n",
    "               activation='relu')(x)\n",
    "    x = Dropout(dropout)(x)\n",
    "    x = MaxPooling2D()(x)\n",
    "    filters *= 2"
   ]
  },
  {
   "cell_type": "markdown",
   "metadata": {},
   "source": [
    "### right branch of Y network"
   ]
  },
  {
   "cell_type": "code",
   "execution_count": 28,
   "metadata": {},
   "outputs": [],
   "source": [
    "right_inputs = Input(shape=input_shape)\n",
    "y = right_inputs\n",
    "filters = n_filters"
   ]
  },
  {
   "cell_type": "markdown",
   "metadata": {},
   "source": [
    "### 3 layers of Conv2D-Dropout-MaxPooling2D number of filters doubles after each layer (32-64-128)"
   ]
  },
  {
   "cell_type": "code",
   "execution_count": 29,
   "metadata": {},
   "outputs": [],
   "source": [
    "for i in range(3):\n",
    "    y = Conv2D(filters=filters,\n",
    "               kernel_size=kernel_size,\n",
    "               padding='same',\n",
    "               activation='relu',\n",
    "               dilation_rate=2)(y)\n",
    "    y = Dropout(dropout)(y)\n",
    "    y = MaxPooling2D()(y)\n",
    "    filters *= 2"
   ]
  },
  {
   "cell_type": "markdown",
   "metadata": {},
   "source": [
    "### merge left and right branches outputs"
   ]
  },
  {
   "cell_type": "code",
   "execution_count": 30,
   "metadata": {},
   "outputs": [],
   "source": [
    "y = concatenate([x,y])"
   ]
  },
  {
   "cell_type": "markdown",
   "metadata": {},
   "source": [
    "### feature maps to vector before connecting to dense layer"
   ]
  },
  {
   "cell_type": "code",
   "execution_count": 31,
   "metadata": {},
   "outputs": [],
   "source": [
    "y = Flatten()(y)\n",
    "y = Dropout(dropout)(y)\n",
    "outputs = Dense(num_labels,activation='softmax')(y)"
   ]
  },
  {
   "cell_type": "markdown",
   "metadata": {},
   "source": [
    "### build the model in functional API"
   ]
  },
  {
   "cell_type": "code",
   "execution_count": 32,
   "metadata": {},
   "outputs": [],
   "source": [
    "model = Model([left_inputs,right_inputs],outputs)"
   ]
  },
  {
   "cell_type": "markdown",
   "metadata": {},
   "source": [
    "### verify the model"
   ]
  },
  {
   "cell_type": "code",
   "execution_count": 33,
   "metadata": {},
   "outputs": [
    {
     "name": "stdout",
     "output_type": "stream",
     "text": [
      "Model: \"model_2\"\n",
      "__________________________________________________________________________________________________\n",
      "Layer (type)                    Output Shape         Param #     Connected to                     \n",
      "==================================================================================================\n",
      "input_3 (InputLayer)            (None, 28, 28, 1)    0                                            \n",
      "__________________________________________________________________________________________________\n",
      "input_4 (InputLayer)            (None, 28, 28, 1)    0                                            \n",
      "__________________________________________________________________________________________________\n",
      "conv2d_7 (Conv2D)               (None, 28, 28, 32)   320         input_3[0][0]                    \n",
      "__________________________________________________________________________________________________\n",
      "conv2d_10 (Conv2D)              (None, 28, 28, 32)   320         input_4[0][0]                    \n",
      "__________________________________________________________________________________________________\n",
      "dropout_8 (Dropout)             (None, 28, 28, 32)   0           conv2d_7[0][0]                   \n",
      "__________________________________________________________________________________________________\n",
      "dropout_11 (Dropout)            (None, 28, 28, 32)   0           conv2d_10[0][0]                  \n",
      "__________________________________________________________________________________________________\n",
      "max_pooling2d_7 (MaxPooling2D)  (None, 14, 14, 32)   0           dropout_8[0][0]                  \n",
      "__________________________________________________________________________________________________\n",
      "max_pooling2d_10 (MaxPooling2D) (None, 14, 14, 32)   0           dropout_11[0][0]                 \n",
      "__________________________________________________________________________________________________\n",
      "conv2d_8 (Conv2D)               (None, 14, 14, 64)   18496       max_pooling2d_7[0][0]            \n",
      "__________________________________________________________________________________________________\n",
      "conv2d_11 (Conv2D)              (None, 14, 14, 64)   18496       max_pooling2d_10[0][0]           \n",
      "__________________________________________________________________________________________________\n",
      "dropout_9 (Dropout)             (None, 14, 14, 64)   0           conv2d_8[0][0]                   \n",
      "__________________________________________________________________________________________________\n",
      "dropout_12 (Dropout)            (None, 14, 14, 64)   0           conv2d_11[0][0]                  \n",
      "__________________________________________________________________________________________________\n",
      "max_pooling2d_8 (MaxPooling2D)  (None, 7, 7, 64)     0           dropout_9[0][0]                  \n",
      "__________________________________________________________________________________________________\n",
      "max_pooling2d_11 (MaxPooling2D) (None, 7, 7, 64)     0           dropout_12[0][0]                 \n",
      "__________________________________________________________________________________________________\n",
      "conv2d_9 (Conv2D)               (None, 7, 7, 128)    73856       max_pooling2d_8[0][0]            \n",
      "__________________________________________________________________________________________________\n",
      "conv2d_12 (Conv2D)              (None, 7, 7, 128)    73856       max_pooling2d_11[0][0]           \n",
      "__________________________________________________________________________________________________\n",
      "dropout_10 (Dropout)            (None, 7, 7, 128)    0           conv2d_9[0][0]                   \n",
      "__________________________________________________________________________________________________\n",
      "dropout_13 (Dropout)            (None, 7, 7, 128)    0           conv2d_12[0][0]                  \n",
      "__________________________________________________________________________________________________\n",
      "max_pooling2d_9 (MaxPooling2D)  (None, 3, 3, 128)    0           dropout_10[0][0]                 \n",
      "__________________________________________________________________________________________________\n",
      "max_pooling2d_12 (MaxPooling2D) (None, 3, 3, 128)    0           dropout_13[0][0]                 \n",
      "__________________________________________________________________________________________________\n",
      "concatenate_2 (Concatenate)     (None, 3, 3, 256)    0           max_pooling2d_9[0][0]            \n",
      "                                                                 max_pooling2d_12[0][0]           \n",
      "__________________________________________________________________________________________________\n",
      "flatten_2 (Flatten)             (None, 2304)         0           concatenate_2[0][0]              \n",
      "__________________________________________________________________________________________________\n",
      "dropout_14 (Dropout)            (None, 2304)         0           flatten_2[0][0]                  \n",
      "__________________________________________________________________________________________________\n",
      "dense_2 (Dense)                 (None, 10)           23050       dropout_14[0][0]                 \n",
      "==================================================================================================\n",
      "Total params: 208,394\n",
      "Trainable params: 208,394\n",
      "Non-trainable params: 0\n",
      "__________________________________________________________________________________________________\n"
     ]
    }
   ],
   "source": [
    "model.summary()"
   ]
  },
  {
   "cell_type": "markdown",
   "metadata": {},
   "source": [
    "### compile and train  the model"
   ]
  },
  {
   "cell_type": "code",
   "execution_count": 34,
   "metadata": {},
   "outputs": [
    {
     "name": "stdout",
     "output_type": "stream",
     "text": [
      "Train on 60000 samples, validate on 10000 samples\n",
      "Epoch 1/20\n",
      "60000/60000 [==============================] - 123s 2ms/step - loss: 0.1910 - accuracy: 0.9406 - val_loss: 0.1945 - val_accuracy: 0.9836\n",
      "Epoch 2/20\n",
      "60000/60000 [==============================] - 131s 2ms/step - loss: 0.0719 - accuracy: 0.9784 - val_loss: 0.1506 - val_accuracy: 0.9888\n",
      "Epoch 3/20\n",
      "60000/60000 [==============================] - 138s 2ms/step - loss: 0.0524 - accuracy: 0.9836 - val_loss: 0.1057 - val_accuracy: 0.9907\n",
      "Epoch 4/20\n",
      "60000/60000 [==============================] - 127s 2ms/step - loss: 0.0427 - accuracy: 0.9865 - val_loss: 0.0813 - val_accuracy: 0.9923\n",
      "Epoch 5/20\n",
      "60000/60000 [==============================] - 129s 2ms/step - loss: 0.0380 - accuracy: 0.9881 - val_loss: 0.0728 - val_accuracy: 0.9918\n",
      "Epoch 6/20\n",
      "60000/60000 [==============================] - 128s 2ms/step - loss: 0.0351 - accuracy: 0.9893 - val_loss: 0.0828 - val_accuracy: 0.9932\n",
      "Epoch 7/20\n",
      "60000/60000 [==============================] - 131s 2ms/step - loss: 0.0317 - accuracy: 0.9901 - val_loss: 0.0564 - val_accuracy: 0.9944\n",
      "Epoch 8/20\n",
      "60000/60000 [==============================] - 134s 2ms/step - loss: 0.0300 - accuracy: 0.9907 - val_loss: 0.0701 - val_accuracy: 0.9923\n",
      "Epoch 9/20\n",
      "60000/60000 [==============================] - 136s 2ms/step - loss: 0.0263 - accuracy: 0.9917 - val_loss: 0.0570 - val_accuracy: 0.9939\n",
      "Epoch 10/20\n",
      "60000/60000 [==============================] - 150s 3ms/step - loss: 0.0256 - accuracy: 0.9921 - val_loss: 0.0502 - val_accuracy: 0.9942\n",
      "Epoch 11/20\n",
      "60000/60000 [==============================] - 155s 3ms/step - loss: 0.0240 - accuracy: 0.9924 - val_loss: 0.0482 - val_accuracy: 0.9937\n",
      "Epoch 12/20\n",
      "60000/60000 [==============================] - 149s 2ms/step - loss: 0.0232 - accuracy: 0.9926 - val_loss: 0.0487 - val_accuracy: 0.9944\n",
      "Epoch 13/20\n",
      "60000/60000 [==============================] - 155s 3ms/step - loss: 0.0211 - accuracy: 0.9937 - val_loss: 0.0412 - val_accuracy: 0.9946\n",
      "Epoch 14/20\n",
      "60000/60000 [==============================] - 155s 3ms/step - loss: 0.0222 - accuracy: 0.9928 - val_loss: 0.0462 - val_accuracy: 0.9943\n",
      "Epoch 15/20\n",
      "60000/60000 [==============================] - 156s 3ms/step - loss: 0.0205 - accuracy: 0.9930 - val_loss: 0.0422 - val_accuracy: 0.9947\n",
      "Epoch 16/20\n",
      "60000/60000 [==============================] - 155s 3ms/step - loss: 0.0194 - accuracy: 0.9935 - val_loss: 0.0489 - val_accuracy: 0.9948\n",
      "Epoch 17/20\n",
      "60000/60000 [==============================] - 158s 3ms/step - loss: 0.0181 - accuracy: 0.9944 - val_loss: 0.0379 - val_accuracy: 0.9946\n",
      "Epoch 18/20\n",
      "60000/60000 [==============================] - 157s 3ms/step - loss: 0.0172 - accuracy: 0.9944 - val_loss: 0.0392 - val_accuracy: 0.9936\n",
      "Epoch 19/20\n",
      "60000/60000 [==============================] - 166s 3ms/step - loss: 0.0164 - accuracy: 0.9945 - val_loss: 0.0341 - val_accuracy: 0.9942\n",
      "Epoch 20/20\n",
      "60000/60000 [==============================] - 154s 3ms/step - loss: 0.0167 - accuracy: 0.9942 - val_loss: 0.0336 - val_accuracy: 0.9947\n"
     ]
    },
    {
     "data": {
      "text/plain": [
       "<keras.callbacks.callbacks.History at 0x7f7a3f220eb8>"
      ]
     },
     "execution_count": 34,
     "metadata": {},
     "output_type": "execute_result"
    }
   ],
   "source": [
    "model.compile(loss='sparse_categorical_crossentropy',\n",
    "              optimizer='adamax',\n",
    "              metrics=['accuracy'])\n",
    "\n",
    "model.fit([x_train,x_train],\n",
    "          y_train, validation_data=([x_test,x_test],y_test),\n",
    "          epochs=20,\n",
    "          batch_size=batch_size)"
   ]
  },
  {
   "cell_type": "markdown",
   "metadata": {},
   "source": [
    "### model accuracy on test dataset"
   ]
  },
  {
   "cell_type": "code",
   "execution_count": 35,
   "metadata": {},
   "outputs": [
    {
     "name": "stdout",
     "output_type": "stream",
     "text": [
      "10000/10000 [==============================] - 5s 527us/step\n",
      "\n",
      "TEST ACCURACY: 99.5%\n"
     ]
    }
   ],
   "source": [
    "score = model.evaluate([x_test,x_test],y_test,batch_size=batch_size)\n",
    "print(\"\\nTEST ACCURACY: %.1f%%\" % (100*score[1]))"
   ]
  },
  {
   "cell_type": "markdown",
   "metadata": {},
   "source": [
    "### Last comments\n",
    "\n",
    "As we can see, over the course of the 20 epochs, the accuracy of the Y-Network is 99.5%. This is a slight improvement over the 3-stack CNN which achieved a score of 99.3% (https://github.com/AndryRafam/DEEP-LEARNING/blob/master/Artificial_Neural_Network/CNN.ipynb). However, this was at the cost of both higher complexity and more than double the number of parameters."
   ]
  },
  {
   "cell_type": "code",
   "execution_count": null,
   "metadata": {},
   "outputs": [],
   "source": []
  }
 ],
 "metadata": {
  "kernelspec": {
   "display_name": "Python 3",
   "language": "python",
   "name": "python3"
  },
  "language_info": {
   "codemirror_mode": {
    "name": "ipython",
    "version": 3
   },
   "file_extension": ".py",
   "mimetype": "text/x-python",
   "name": "python",
   "nbconvert_exporter": "python",
   "pygments_lexer": "ipython3",
   "version": "3.5.2"
  }
 },
 "nbformat": 4,
 "nbformat_minor": 2
}
